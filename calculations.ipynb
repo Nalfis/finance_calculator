{
 "cells": [
  {
   "cell_type": "code",
   "execution_count": 5,
   "metadata": {},
   "outputs": [
    {
     "name": "stdout",
     "output_type": "stream",
     "text": [
      "\n",
      "Principal $59,565.44 \n",
      "Int Rate: 0.0290\n",
      "Loan Time: 1.5\n",
      "Periods: 12\n",
      "Total Periods 18.0\n",
      "Future Value: $62,210.45\n",
      "\n",
      "Future Value $62,210.45\n",
      "Int Rate: 0.0290\n",
      "Loan Time: 1.5\n",
      "Periods: 12\n",
      "Total Periods 18.0\n",
      "Present Value: $59,565.44\n",
      "\n",
      "Present Value $59,565.44\n",
      "Int Rate: 0.0290\n",
      "Loan Time: 1.5\n",
      "Periods: 12\n",
      "Total Periods 18.0\n",
      "Payment: $3,385.68\n",
      "\n",
      "Payment $3,385.68\n",
      "Int Rate: 0.0290\n",
      "Loan Time: 1.5\n",
      "Periods: 12\n",
      "Total Periods 18.0\n",
      "Present Value of Annuity: $59,565.44\n",
      "\n",
      "Present Value $59,565.44\n",
      "Int Rate: 0.0290\n",
      "Loan Time: 1.5\n",
      "Periods: 12\n",
      "Total Periods 18.0\n",
      "Payment: $3,241.73\n",
      "\n",
      "Payment $3,241.73\n",
      "Int Rate: 0.0290\n",
      "Loan Time: 1.5\n",
      "Periods: 12\n",
      "Total Periods 18.0\n",
      "Present Value of Annuity: $59,565.44\n"
     ]
    }
   ],
   "source": [
    "import FinanceCalcs\n",
    "\n",
    "#Construct Calculator Objects for Compound Calculator\n",
    "\n",
    "compound = FinanceCalcs.CompoundFinanceCalc()\n",
    "\n",
    "#Sienna Payment parameters\n",
    "\n",
    "sienna_pv = {\n",
    "    \"principal\": 59565.44,\n",
    "    \"interest_rate\": 2.9,\n",
    "    \"time\": 1.5,\n",
    "    \"periods\": 12\n",
    "}\n",
    "\n",
    "compound1 = compound.c_futurevalue(**sienna_pv)\n",
    "compound2 = compound.c_presentvalue(**compound1)\n",
    "compound3 = compound.c_pv2pmt(**compound2)\n",
    "compound4 = compound.c_pmt2pv(**compound3)\n",
    "compound5 = compound.c_fv2pmt(**compound1)\n",
    "compound6 = compound.c_pmt2fv(**compound5)\n",
    "\n",
    "\n"
   ]
  },
  {
   "cell_type": "code",
   "execution_count": 6,
   "metadata": {},
   "outputs": [
    {
     "name": "stdout",
     "output_type": "stream",
     "text": [
      "\n",
      "Payment#:  Payment  Principal paid:  Interest paid: Balance:\n",
      "   0        $3,385.68     $3,241.73           $143.95    $56,323.71\n",
      "    1        $3,385.68     $3,249.57           $136.12    $53,074.14\n",
      "    2        $3,385.68     $3,257.42           $128.26    $49,816.72\n",
      "    3        $3,385.68     $3,265.29           $120.39    $46,551.42\n",
      "    4        $3,385.68     $3,273.18           $112.50    $43,278.24\n",
      "    5        $3,385.68     $3,281.10           $104.59    $39,997.14\n",
      "    6        $3,385.68     $3,289.02           $96.66    $36,708.12\n",
      "    7        $3,385.68     $3,296.97           $88.71    $33,411.14\n",
      "    8        $3,385.68     $3,304.94           $80.74    $30,106.20\n",
      "    9        $3,385.68     $3,312.93           $72.76    $26,793.28\n",
      "    10        $3,385.68     $3,320.93           $64.75    $23,472.34\n",
      "    11        $3,385.68     $3,328.96           $56.72    $20,143.38\n",
      "    12        $3,385.68     $3,337.00           $48.68    $16,806.38\n",
      "    13        $3,385.68     $3,345.07           $40.62    $13,461.31\n",
      "    14        $3,385.68     $3,353.15           $32.53    $10,108.16\n",
      "    15        $3,385.68     $3,361.26           $24.43    $6,746.90\n",
      "    16        $3,385.68     $3,369.38           $16.31    $3,377.52\n",
      "    17        $3,385.68     $3,377.52           $8.16    $0.00\n"
     ]
    }
   ],
   "source": [
    "amort_payments = compound.amort_sched(**compound4)"
   ]
  },
  {
   "cell_type": "code",
   "execution_count": null,
   "metadata": {},
   "outputs": [],
   "source": []
  }
 ],
 "metadata": {
  "kernelspec": {
   "display_name": "Python 3",
   "language": "python",
   "name": "python3"
  },
  "language_info": {
   "codemirror_mode": {
    "name": "ipython",
    "version": 3
   },
   "file_extension": ".py",
   "mimetype": "text/x-python",
   "name": "python",
   "nbconvert_exporter": "python",
   "pygments_lexer": "ipython3",
   "version": "3.8.5"
  }
 },
 "nbformat": 4,
 "nbformat_minor": 4
}
